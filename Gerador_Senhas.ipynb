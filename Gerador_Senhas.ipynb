{
  "nbformat": 4,
  "nbformat_minor": 0,
  "metadata": {
    "colab": {
      "name": "Gerador_Senhas.ipynb",
      "provenance": [],
      "authorship_tag": "ABX9TyMqn8zmuzXlAzvp/vQq6pOr",
      "include_colab_link": true
    },
    "kernelspec": {
      "name": "python3",
      "display_name": "Python 3"
    },
    "language_info": {
      "name": "python"
    }
  },
  "cells": [
    {
      "cell_type": "markdown",
      "metadata": {
        "id": "view-in-github",
        "colab_type": "text"
      },
      "source": [
        "<a href=\"https://colab.research.google.com/github/anaslompo/PowerBI-DataScience/blob/master/Gerador_Senhas.ipynb\" target=\"_parent\"><img src=\"https://colab.research.google.com/assets/colab-badge.svg\" alt=\"Open In Colab\"/></a>"
      ]
    },
    {
      "cell_type": "code",
      "metadata": {
        "colab": {
          "base_uri": "https://localhost:8080/"
        },
        "id": "DDVuQVduKhN8",
        "outputId": "5a835a97-aa36-4394-a86c-35a49e85ec90"
      },
      "source": [
        "chave = input(\"Digite a base da sua senha: \")\n",
        "\n",
        "senha = \"\"\n",
        "for letra in chave:\n",
        "  if letra in \"Aa\": senha = senha + \"1\"\n",
        "  elif letra in \"Bb\": senha = senha + \"@\"\n",
        "  elif letra in \"Cc\": senha = senha + \"2\"\n",
        "  elif letra in \"Dd\": senha = senha + \"13\"\n",
        "  elif letra in \"Ee\": senha = senha + \"4\"\n",
        "  elif letra in \"Ff\": senha = senha + \"15\"\n",
        "  elif letra in \"Rr\": senha = senha + \"#\"\n",
        "  elif letra in \"Ss\": senha = senha + \"%\"\n",
        "  elif letra in \"Mm\": senha = senha + \"$\"\n",
        "  elif letra in \"Ii\": senha = senha + \"!\"\n",
        "  elif letra == \"2\" : senha = senha + \"&\"\n",
        "  elif letra == \"4\" : senha = senha + \"_\"\n",
        "  elif letra == \"6\" : senha = senha + \"&\"\n",
        "  elif letra == \"8\" : senha = senha + \"*\"\n",
        "  else: senha = senha + letra\n",
        "\n",
        "print(senha)\n",
        "  \n"
      ],
      "execution_count": 8,
      "outputs": [
        {
          "output_type": "stream",
          "text": [
            "Digite a base da sua senha: 8tino\n",
            "*t!no\n"
          ],
          "name": "stdout"
        }
      ]
    }
  ]
}