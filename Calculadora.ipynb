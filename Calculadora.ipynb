{
  "nbformat": 4,
  "nbformat_minor": 0,
  "metadata": {
    "colab": {
      "name": "Calculadora.ipynb",
      "provenance": [],
      "authorship_tag": "ABX9TyPRfNqDBnut+tm8hM2vzDXt",
      "include_colab_link": true
    },
    "kernelspec": {
      "name": "python3",
      "display_name": "Python 3"
    },
    "language_info": {
      "name": "python"
    }
  },
  "cells": [
    {
      "cell_type": "markdown",
      "metadata": {
        "id": "view-in-github",
        "colab_type": "text"
      },
      "source": [
        "<a href=\"https://colab.research.google.com/github/anaslompo/PowerBI-DataScience/blob/master/Calculadora.ipynb\" target=\"_parent\"><img src=\"https://colab.research.google.com/assets/colab-badge.svg\" alt=\"Open In Colab\"/></a>"
      ]
    },
    {
      "cell_type": "markdown",
      "metadata": {
        "id": "PUjp0H2MA9ss"
      },
      "source": [
        "Criando uma calculadora\n"
      ]
    },
    {
      "cell_type": "code",
      "metadata": {
        "colab": {
          "base_uri": "https://localhost:8080/"
        },
        "id": "6AChGAeQBJk1",
        "outputId": "6e12017f-28dc-4885-c74a-9c2b32b508a2"
      },
      "source": [
        "print(\"Calculadora Mágica da Ana\")"
      ],
      "execution_count": 1,
      "outputs": [
        {
          "output_type": "stream",
          "text": [
            "Calculadora Mágica\n"
          ],
          "name": "stdout"
        }
      ]
    },
    {
      "cell_type": "code",
      "metadata": {
        "colab": {
          "base_uri": "https://localhost:8080/"
        },
        "id": "UCnnGXrdBRZb",
        "outputId": "4ab3dbfb-2ab3-40ed-9746-98588d88a04b"
      },
      "source": [
        "\n",
        "def calculate():\n",
        "\n",
        "  operacao = input('''\n",
        "Por favor, coloque a operação matemática que você gostaria de fazer:\n",
        "+ para adição\n",
        "- para subtração\n",
        "* para multiplicação\n",
        "/ para divisão\n",
        "''')\n",
        "\n",
        "  num1 = int(input(\"Digite o primeiro número: \"))\n",
        "  num2 = int(input(\"Digite o segundo número: \"))\n",
        "\n",
        "  if operacao == \"+\":\n",
        "    print('{} + {} = '.format(num1, num2))\n",
        "    print(num1+num2)\n",
        "\n",
        "#Subtração\n",
        "  elif operacao ==\"-\":\n",
        "    print('{} - {} = '.format(num1, num2))\n",
        "    print(num1-num2)\n",
        "\n",
        "#Multiplicação\n",
        "  elif operacao ==\"*\":\n",
        "    print('{} * {} = '.format(num1, num2))\n",
        "    print(num1*num2)\n",
        "\n",
        "#Divisão\n",
        "  elif operacao ==\"/\":\n",
        "    print('{} / {} = '.format(num1, num2))\n",
        "    print(num1/num2)\n",
        "\n",
        "  else:\n",
        "      print('Você não colocou um operador válido, rode o programa novamente.')\n",
        "\n",
        "  again()\n",
        "\n",
        "def again():\n",
        "\n",
        "  calc_again = input('''\n",
        "  Você quer fazer um novo cálculo?\n",
        "  Por favor, digite S para SIM e N para Não.\n",
        "  ''')\n",
        "\n",
        "  if calc_again.upper() == 'S':\n",
        "    calculate()\n",
        "\n",
        "  elif calc_again.upper() == 'N':\n",
        "    print('Até mais.')\n",
        "\n",
        "  else:\n",
        "    again()\n",
        "\n",
        "calculate()\n"
      ],
      "execution_count": 1,
      "outputs": [
        {
          "output_type": "stream",
          "text": [
            "\n",
            "Por favor, coloque a operação matemática que você gostaria de fazer:\n",
            "+ para adição\n",
            "- para subtração\n",
            "* para multiplicação\n",
            "/ para divisão\n",
            "+\n",
            "Digite o primeiro número: 1\n",
            "Digite o segundo número: 5\n",
            "1 + 5 = \n",
            "6\n",
            "\n",
            "  Você quer fazer um novo cálculo?\n",
            "  Por favor, digite S para SIM e N para Não.\n",
            "  N\n",
            "Até mais.\n"
          ],
          "name": "stdout"
        }
      ]
    }
  ]
}